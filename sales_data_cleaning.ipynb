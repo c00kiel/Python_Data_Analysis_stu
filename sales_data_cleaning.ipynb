{
 "cells": [
  {
   "cell_type": "markdown",
   "id": "a4f0deef-463b-4fbc-876f-b7c02ab5df13",
   "metadata": {},
   "source": [
    "# 评估清洗淘宝乐高数据\n",
    "## 1. 分析目标\n",
    "本项目使用的数据为淘宝乐高产品销售数据，分析目的在于对获取到的数据进行整齐和干净度进行评估，并且基于评估结果，对数据进行清洗。\n",
    "\n",
    "方便后续分析卖出产品数量最高的店铺和最畅销的产品。\n",
    "\n",
    "## 2. 数据简介\n",
    "原始数据集记录了近一年淘宝平台各个线上店铺乐高产品的销售情况，涵盖了不同店铺销售的不同种类乐高产品的数量。\n",
    "\n",
    "每列数据含义如下：\n",
    "- `goods_name`： 乐高产品名称。\n",
    "- `shop_name`：卖出乐高产品的淘宝店铺名称。\n",
    "- `price`：产品单价，单位为元（￥）。\n",
    "- `purchase_num`：购买数量，用于标识某一产品在某店铺的购买次数。\n",
    "- `location`：城市，用于标识淘宝店铺所在城市（每个店铺所在城市固定，即店铺名称与城市一一对应）。"
   ]
  },
  {
   "cell_type": "markdown",
   "id": "049f99cd-fb3d-4bb5-921e-bd490ed7b660",
   "metadata": {},
   "source": [
    "## 3. 数据评估"
   ]
  },
  {
   "cell_type": "markdown",
   "id": "bc2bd725-2cf0-4434-8b01-da6b38deea95",
   "metadata": {},
   "source": [
    "### 3.1 读取数据"
   ]
  },
  {
   "cell_type": "markdown",
   "id": "1871524a-94ac-4fff-8595-f6c2d09b2001",
   "metadata": {},
   "source": [
    "导入数据分析所需要的库，并通过Pandas的`read_csv`函数，将原始数据文件\"乐高淘宝数据.csv\"里的数据内容解析为DataFrame，并赋值给original_data."
   ]
  },
  {
   "cell_type": "code",
   "execution_count": 1,
   "id": "ff77f699-ae78-4458-a601-e13d21704eeb",
   "metadata": {},
   "outputs": [],
   "source": [
    "import pandas as pd"
   ]
  },
  {
   "cell_type": "code",
   "execution_count": 2,
   "id": "4120502c-8ffb-4276-8c1e-043cc8ead2fd",
   "metadata": {},
   "outputs": [
    {
     "data": {
      "text/html": [
       "<div>\n",
       "<style scoped>\n",
       "    .dataframe tbody tr th:only-of-type {\n",
       "        vertical-align: middle;\n",
       "    }\n",
       "\n",
       "    .dataframe tbody tr th {\n",
       "        vertical-align: top;\n",
       "    }\n",
       "\n",
       "    .dataframe thead th {\n",
       "        text-align: right;\n",
       "    }\n",
       "</style>\n",
       "<table border=\"1\" class=\"dataframe\">\n",
       "  <thead>\n",
       "    <tr style=\"text-align: right;\">\n",
       "      <th></th>\n",
       "      <th>goods_name</th>\n",
       "      <th>shop_name</th>\n",
       "      <th>price</th>\n",
       "      <th>purchase_num</th>\n",
       "      <th>location</th>\n",
       "    </tr>\n",
       "  </thead>\n",
       "  <tbody>\n",
       "    <tr>\n",
       "      <th>0</th>\n",
       "      <td>乐高旗舰店官网悟空小侠系列80012孙悟</td>\n",
       "      <td>乐高官方旗舰店</td>\n",
       "      <td>1299.0</td>\n",
       "      <td>['867人付款']</td>\n",
       "      <td>浙江 嘉兴</td>\n",
       "    </tr>\n",
       "    <tr>\n",
       "      <th>1</th>\n",
       "      <td>LEGO乐高 71043收藏版哈利波特霍格沃兹城堡玩具礼物</td>\n",
       "      <td>天猫国际进口超市</td>\n",
       "      <td>3299.0</td>\n",
       "      <td>['259人付款']</td>\n",
       "      <td>浙江 杭州</td>\n",
       "    </tr>\n",
       "    <tr>\n",
       "      <th>2</th>\n",
       "      <td>LEGO乐高机械组布加迪42083粉丝收藏旗舰款玩具模型礼物</td>\n",
       "      <td>天猫国际进口超市</td>\n",
       "      <td>2799.0</td>\n",
       "      <td>['441人付款']</td>\n",
       "      <td>浙江 杭州</td>\n",
       "    </tr>\n",
       "    <tr>\n",
       "      <th>3</th>\n",
       "      <td>乐高旗舰店官网3月新品76895超级赛车系列法拉利赛车积木玩具男孩</td>\n",
       "      <td>乐高官方旗舰店</td>\n",
       "      <td>199.0</td>\n",
       "      <td>['358人付款']</td>\n",
       "      <td>浙江 嘉兴</td>\n",
       "    </tr>\n",
       "    <tr>\n",
       "      <th>4</th>\n",
       "      <td>乐高旗舰店官网3月新品得宝系列10921超级英雄实验室大颗粒益智</td>\n",
       "      <td>乐高官方旗舰店</td>\n",
       "      <td>299.0</td>\n",
       "      <td>['126人付款']</td>\n",
       "      <td>浙江 嘉兴</td>\n",
       "    </tr>\n",
       "  </tbody>\n",
       "</table>\n",
       "</div>"
      ],
      "text/plain": [
       "                          goods_name shop_name   price purchase_num location\n",
       "0               乐高旗舰店官网悟空小侠系列80012孙悟   乐高官方旗舰店  1299.0   ['867人付款']    浙江 嘉兴\n",
       "1      LEGO乐高 71043收藏版哈利波特霍格沃兹城堡玩具礼物  天猫国际进口超市  3299.0   ['259人付款']    浙江 杭州\n",
       "2     LEGO乐高机械组布加迪42083粉丝收藏旗舰款玩具模型礼物  天猫国际进口超市  2799.0   ['441人付款']    浙江 杭州\n",
       "3  乐高旗舰店官网3月新品76895超级赛车系列法拉利赛车积木玩具男孩   乐高官方旗舰店   199.0   ['358人付款']    浙江 嘉兴\n",
       "4   乐高旗舰店官网3月新品得宝系列10921超级英雄实验室大颗粒益智   乐高官方旗舰店   299.0   ['126人付款']    浙江 嘉兴"
      ]
     },
     "execution_count": 2,
     "metadata": {},
     "output_type": "execute_result"
    }
   ],
   "source": [
    "original_data = pd.read_csv(\"乐高淘宝数据.csv\")\n",
    "original_data.head()"
   ]
  },
  {
   "cell_type": "markdown",
   "id": "48405c3b-6e89-4560-a61c-bd71f3874042",
   "metadata": {},
   "source": [
    "### 3.2 评估数据\n",
    "在本节，将对上面建立的`original_data`这个DataFrame所包含的数据进行评估。\n",
    "\n",
    "评估主要从以下两个方面进行：\n",
    "1. 结构：即整齐度。数据的结构性问题指不符合“每列是一个变量，每行是一个观察值，每个单元格是一个值”这三个标准。\n",
    "2. 内容：即干净度。数据的内容问题包括存在丢失数据、重复数据、无效数据等。\n",
    "\n",
    "#### 3.2.1 评估数据整齐度"
   ]
  },
  {
   "cell_type": "markdown",
   "id": "6ab9ecf3-125d-4452-86c9-9f27864c78e7",
   "metadata": {},
   "source": [
    "使用DataFrame的`sample()`方法随机获取十行数据，观察`original_data`是否符合整齐数据要求："
   ]
  },
  {
   "cell_type": "code",
   "execution_count": 3,
   "id": "b6149e1e-473d-41e4-99be-e27ed482fa44",
   "metadata": {},
   "outputs": [
    {
     "data": {
      "text/html": [
       "<div>\n",
       "<style scoped>\n",
       "    .dataframe tbody tr th:only-of-type {\n",
       "        vertical-align: middle;\n",
       "    }\n",
       "\n",
       "    .dataframe tbody tr th {\n",
       "        vertical-align: top;\n",
       "    }\n",
       "\n",
       "    .dataframe thead th {\n",
       "        text-align: right;\n",
       "    }\n",
       "</style>\n",
       "<table border=\"1\" class=\"dataframe\">\n",
       "  <thead>\n",
       "    <tr style=\"text-align: right;\">\n",
       "      <th></th>\n",
       "      <th>goods_name</th>\n",
       "      <th>shop_name</th>\n",
       "      <th>price</th>\n",
       "      <th>purchase_num</th>\n",
       "      <th>location</th>\n",
       "    </tr>\n",
       "  </thead>\n",
       "  <tbody>\n",
       "    <tr>\n",
       "      <th>1293</th>\n",
       "      <td>乐高积木女孩子系列公主梦冰雪奇缘城堡6街景7拼装8益智9玩具礼物</td>\n",
       "      <td>tb5307835902</td>\n",
       "      <td>35.8</td>\n",
       "      <td>['283人付款']</td>\n",
       "      <td>广东 汕头</td>\n",
       "    </tr>\n",
       "    <tr>\n",
       "      <th>2302</th>\n",
       "      <td>LEGO乐高积木全新正品现货包邮超级英雄系列70906小丑低底盘汽车</td>\n",
       "      <td>jeffreyluk78</td>\n",
       "      <td>428.0</td>\n",
       "      <td>['29人付款']</td>\n",
       "      <td>广东 佛山</td>\n",
       "    </tr>\n",
       "    <tr>\n",
       "      <th>3708</th>\n",
       "      <td>LEGO 乐高 人仔武器 配件 93252 珍珠金色 洛基 法老 权杖</td>\n",
       "      <td>liufang198521</td>\n",
       "      <td>9.9</td>\n",
       "      <td>['7人付款']</td>\n",
       "      <td>北京</td>\n",
       "    </tr>\n",
       "    <tr>\n",
       "      <th>1252</th>\n",
       "      <td>【天津现货中通包邮】乐高积木大颗粒得宝10874智能蒸汽火车电动</td>\n",
       "      <td>waterlike1</td>\n",
       "      <td>348.0</td>\n",
       "      <td>['46人付款']</td>\n",
       "      <td>天津</td>\n",
       "    </tr>\n",
       "    <tr>\n",
       "      <th>1813</th>\n",
       "      <td>2020乐高我的世界积木系列男孩子益智拼装拼图儿童玩具村庄6-14岁</td>\n",
       "      <td>佳佳馒头</td>\n",
       "      <td>48.0</td>\n",
       "      <td>['37人付款']</td>\n",
       "      <td>广东 汕头</td>\n",
       "    </tr>\n",
       "    <tr>\n",
       "      <th>4083</th>\n",
       "      <td>乐高科技机械组42056保时捷 GT3 RS绝版出售 刘昊然同款</td>\n",
       "      <td>寒翊scorpion</td>\n",
       "      <td>3268.0</td>\n",
       "      <td>['6人付款']</td>\n",
       "      <td>河南 郑州</td>\n",
       "    </tr>\n",
       "    <tr>\n",
       "      <th>87</th>\n",
       "      <td>【现货】乐高 LEGO 70676 积木玩具幻影忍者  劳埃德的泰坦机甲</td>\n",
       "      <td>雨齐泪</td>\n",
       "      <td>458.0</td>\n",
       "      <td>['109人付款']</td>\n",
       "      <td>北京</td>\n",
       "    </tr>\n",
       "    <tr>\n",
       "      <th>3765</th>\n",
       "      <td>LEGO乐高10261创意过山车男孩女孩拼装积木儿童玩具收藏礼物</td>\n",
       "      <td>优优工艺品超市_2009</td>\n",
       "      <td>2538.0</td>\n",
       "      <td>['15人付款']</td>\n",
       "      <td>上海</td>\n",
       "    </tr>\n",
       "    <tr>\n",
       "      <th>2194</th>\n",
       "      <td>中华街积木拼装成年立体微颗粒建筑高难度拼图玩具大人乐高女孩</td>\n",
       "      <td>bboyinmylife</td>\n",
       "      <td>88.8</td>\n",
       "      <td>['43人付款']</td>\n",
       "      <td>广东 汕头</td>\n",
       "    </tr>\n",
       "    <tr>\n",
       "      <th>181</th>\n",
       "      <td>乐高幻影忍者人仔 儿童乐高玩具男孩 拼装</td>\n",
       "      <td>大母指玩具专营店</td>\n",
       "      <td>79.0</td>\n",
       "      <td>['188人付款']</td>\n",
       "      <td>上海</td>\n",
       "    </tr>\n",
       "  </tbody>\n",
       "</table>\n",
       "</div>"
      ],
      "text/plain": [
       "                                goods_name      shop_name   price  \\\n",
       "1293      乐高积木女孩子系列公主梦冰雪奇缘城堡6街景7拼装8益智9玩具礼物   tb5307835902    35.8   \n",
       "2302    LEGO乐高积木全新正品现货包邮超级英雄系列70906小丑低底盘汽车   jeffreyluk78   428.0   \n",
       "3708   LEGO 乐高 人仔武器 配件 93252 珍珠金色 洛基 法老 权杖  liufang198521     9.9   \n",
       "1252      【天津现货中通包邮】乐高积木大颗粒得宝10874智能蒸汽火车电动     waterlike1   348.0   \n",
       "1813    2020乐高我的世界积木系列男孩子益智拼装拼图儿童玩具村庄6-14岁           佳佳馒头    48.0   \n",
       "4083      乐高科技机械组42056保时捷 GT3 RS绝版出售 刘昊然同款     寒翊scorpion  3268.0   \n",
       "87    【现货】乐高 LEGO 70676 积木玩具幻影忍者  劳埃德的泰坦机甲            雨齐泪   458.0   \n",
       "3765      LEGO乐高10261创意过山车男孩女孩拼装积木儿童玩具收藏礼物   优优工艺品超市_2009  2538.0   \n",
       "2194         中华街积木拼装成年立体微颗粒建筑高难度拼图玩具大人乐高女孩   bboyinmylife    88.8   \n",
       "181                   乐高幻影忍者人仔 儿童乐高玩具男孩 拼装       大母指玩具专营店    79.0   \n",
       "\n",
       "     purchase_num location  \n",
       "1293   ['283人付款']    广东 汕头  \n",
       "2302    ['29人付款']    广东 佛山  \n",
       "3708     ['7人付款']       北京  \n",
       "1252    ['46人付款']       天津  \n",
       "1813    ['37人付款']    广东 汕头  \n",
       "4083     ['6人付款']    河南 郑州  \n",
       "87     ['109人付款']       北京  \n",
       "3765    ['15人付款']       上海  \n",
       "2194    ['43人付款']    广东 汕头  \n",
       "181    ['188人付款']       上海  "
      ]
     },
     "execution_count": 3,
     "metadata": {},
     "output_type": "execute_result"
    }
   ],
   "source": [
    "original_data.sample(10)"
   ]
  },
  {
   "cell_type": "markdown",
   "id": "5830c05e-6aa8-49d6-9951-269adf7c767d",
   "metadata": {},
   "source": [
    "从抽样的十行数据来看，数据符合“每列是一个变量，每行是一个观察值，每个单元格是一个值”的要求。具体来看每行是关于某个商品在某个店铺销售数量的记录，商品名称和店铺名称共同构成了产品在某店铺销售情况的唯一标识，每列是销售情况的各个相关变量，因此不存在结构性问题。"
   ]
  },
  {
   "cell_type": "markdown",
   "id": "3c587c41-9cda-46b6-9a10-6e71c9f231bb",
   "metadata": {},
   "source": [
    "#### 3.2.2 评估数据干净度"
   ]
  },
  {
   "cell_type": "code",
   "execution_count": 4,
   "id": "ea78bc7b-1ee0-4cb2-a4fd-38549809e587",
   "metadata": {},
   "outputs": [
    {
     "name": "stdout",
     "output_type": "stream",
     "text": [
      "<class 'pandas.core.frame.DataFrame'>\n",
      "RangeIndex: 4404 entries, 0 to 4403\n",
      "Data columns (total 5 columns):\n",
      " #   Column        Non-Null Count  Dtype  \n",
      "---  ------        --------------  -----  \n",
      " 0   goods_name    4404 non-null   object \n",
      " 1   shop_name     4404 non-null   object \n",
      " 2   price         4404 non-null   float64\n",
      " 3   purchase_num  4404 non-null   object \n",
      " 4   location      4404 non-null   object \n",
      "dtypes: float64(1), object(4)\n",
      "memory usage: 172.2+ KB\n"
     ]
    }
   ],
   "source": [
    "original_data.info()"
   ]
  },
  {
   "cell_type": "markdown",
   "id": "bf75f8ad-3e83-444f-abb7-4005b906bddc",
   "metadata": {},
   "source": [
    "从输出结果来看，数据共有4404条观察值，没有缺失数据的列。\n",
    "\n",
    "此外，`purchase_num`表示商品的购买数量，数据类型应为整数，为了方便后续统计计算，应当进行数据格式转换。"
   ]
  },
  {
   "cell_type": "markdown",
   "id": "283af51c-138d-4fa3-943c-0e903611c9ec",
   "metadata": {},
   "source": [
    "**数据清洗1：** 使用Series的`.str`属性的`slice`方法对`purchase_num`列进行截取，只保留有效数字，并将截取后的新DataFrame赋值给`celaned_data`。"
   ]
  },
  {
   "cell_type": "code",
   "execution_count": 5,
   "id": "29f02bc3-2e23-46a3-bed4-84a5f18d0135",
   "metadata": {},
   "outputs": [
    {
     "data": {
      "text/plain": [
       "0       867\n",
       "1       259\n",
       "2       441\n",
       "3       358\n",
       "4       126\n",
       "       ... \n",
       "4399     41\n",
       "4400     36\n",
       "4401     14\n",
       "4402    112\n",
       "4403    117\n",
       "Name: purchase_num, Length: 4404, dtype: object"
      ]
     },
     "execution_count": 5,
     "metadata": {},
     "output_type": "execute_result"
    }
   ],
   "source": [
    "cleaned_data = original_data.copy()\n",
    "cleaned_data[\"purchase_num\"] = cleaned_data[\"purchase_num\"].str.slice(2, -5)\n",
    "cleaned_data[\"purchase_num\"]"
   ]
  },
  {
   "cell_type": "markdown",
   "id": "71abc00b-498e-4320-896b-5158718b1609",
   "metadata": {},
   "source": [
    "使用DataFrame的`astype()`方法将截取后只保留数字的`celaned_data`列数据类型转换为int类型。"
   ]
  },
  {
   "cell_type": "markdown",
   "id": "5e2c6c1f-fd76-4c48-9142-10b701c73747",
   "metadata": {},
   "source": [
    "由于转换时发现部分字符串末尾存在“+”，转换类型失败，先使用str属性的strip()方法去掉末尾的“+”"
   ]
  },
  {
   "cell_type": "code",
   "execution_count": 6,
   "id": "00106012-39b9-4b75-9c16-53e48aef7773",
   "metadata": {},
   "outputs": [
    {
     "data": {
      "text/plain": [
       "0       867\n",
       "1       259\n",
       "2       441\n",
       "3       358\n",
       "4       126\n",
       "       ... \n",
       "4399     41\n",
       "4400     36\n",
       "4401     14\n",
       "4402    112\n",
       "4403    117\n",
       "Name: purchase_num, Length: 4404, dtype: object"
      ]
     },
     "execution_count": 6,
     "metadata": {},
     "output_type": "execute_result"
    }
   ],
   "source": [
    "cleaned_data[\"purchase_num\"] = cleaned_data[\"purchase_num\"].str.strip(\"+\")\n",
    "cleaned_data[\"purchase_num\"]"
   ]
  },
  {
   "cell_type": "code",
   "execution_count": 7,
   "id": "20815203-a9fa-471e-a1f5-3b9634f80782",
   "metadata": {},
   "outputs": [
    {
     "data": {
      "text/plain": [
       "0       867\n",
       "1       259\n",
       "2       441\n",
       "3       358\n",
       "4       126\n",
       "       ... \n",
       "4399     41\n",
       "4400     36\n",
       "4401     14\n",
       "4402    112\n",
       "4403    117\n",
       "Name: purchase_num, Length: 4404, dtype: int32"
      ]
     },
     "execution_count": 7,
     "metadata": {},
     "output_type": "execute_result"
    }
   ],
   "source": [
    "cleaned_data[\"purchase_num\"] = cleaned_data[\"purchase_num\"].astype(int)\n",
    "cleaned_data[\"purchase_num\"]"
   ]
  },
  {
   "cell_type": "markdown",
   "id": "083d5587-737e-41bc-9f6c-2d3f810af0ec",
   "metadata": {},
   "source": [
    "输出结果显示`purchase_num`已经被成功转换为整数类型。"
   ]
  },
  {
   "cell_type": "markdown",
   "id": "84e29964-6df4-44b0-a26e-dabfce0e4827",
   "metadata": {},
   "source": [
    "##### 3.2.2.1 评估缺失数据\n",
    "根据上面的输出结果，初步判断原始数据中，没有缺失数据的列，这里使用series的`isnull()`方法获取每列数据的缺失值，进行验证。"
   ]
  },
  {
   "cell_type": "code",
   "execution_count": 8,
   "id": "c95c1d20-d237-4c4a-96f6-309e1c15ef5e",
   "metadata": {},
   "outputs": [
    {
     "data": {
      "text/html": [
       "<div>\n",
       "<style scoped>\n",
       "    .dataframe tbody tr th:only-of-type {\n",
       "        vertical-align: middle;\n",
       "    }\n",
       "\n",
       "    .dataframe tbody tr th {\n",
       "        vertical-align: top;\n",
       "    }\n",
       "\n",
       "    .dataframe thead th {\n",
       "        text-align: right;\n",
       "    }\n",
       "</style>\n",
       "<table border=\"1\" class=\"dataframe\">\n",
       "  <thead>\n",
       "    <tr style=\"text-align: right;\">\n",
       "      <th></th>\n",
       "      <th>goods_name</th>\n",
       "      <th>shop_name</th>\n",
       "      <th>price</th>\n",
       "      <th>purchase_num</th>\n",
       "      <th>location</th>\n",
       "    </tr>\n",
       "  </thead>\n",
       "  <tbody>\n",
       "  </tbody>\n",
       "</table>\n",
       "</div>"
      ],
      "text/plain": [
       "Empty DataFrame\n",
       "Columns: [goods_name, shop_name, price, purchase_num, location]\n",
       "Index: []"
      ]
     },
     "execution_count": 8,
     "metadata": {},
     "output_type": "execute_result"
    }
   ],
   "source": [
    "original_data[original_data[\"goods_name\"].isnull()]"
   ]
  },
  {
   "cell_type": "code",
   "execution_count": 9,
   "id": "835ee3bf-b6ad-47fe-8d28-49323f2291cb",
   "metadata": {},
   "outputs": [
    {
     "data": {
      "text/html": [
       "<div>\n",
       "<style scoped>\n",
       "    .dataframe tbody tr th:only-of-type {\n",
       "        vertical-align: middle;\n",
       "    }\n",
       "\n",
       "    .dataframe tbody tr th {\n",
       "        vertical-align: top;\n",
       "    }\n",
       "\n",
       "    .dataframe thead th {\n",
       "        text-align: right;\n",
       "    }\n",
       "</style>\n",
       "<table border=\"1\" class=\"dataframe\">\n",
       "  <thead>\n",
       "    <tr style=\"text-align: right;\">\n",
       "      <th></th>\n",
       "      <th>goods_name</th>\n",
       "      <th>shop_name</th>\n",
       "      <th>price</th>\n",
       "      <th>purchase_num</th>\n",
       "      <th>location</th>\n",
       "    </tr>\n",
       "  </thead>\n",
       "  <tbody>\n",
       "  </tbody>\n",
       "</table>\n",
       "</div>"
      ],
      "text/plain": [
       "Empty DataFrame\n",
       "Columns: [goods_name, shop_name, price, purchase_num, location]\n",
       "Index: []"
      ]
     },
     "execution_count": 9,
     "metadata": {},
     "output_type": "execute_result"
    }
   ],
   "source": [
    "original_data[original_data[\"shop_name\"].isnull()]"
   ]
  },
  {
   "cell_type": "code",
   "execution_count": 10,
   "id": "9748795f-ae13-4080-bee9-df2076cae19c",
   "metadata": {},
   "outputs": [
    {
     "data": {
      "text/html": [
       "<div>\n",
       "<style scoped>\n",
       "    .dataframe tbody tr th:only-of-type {\n",
       "        vertical-align: middle;\n",
       "    }\n",
       "\n",
       "    .dataframe tbody tr th {\n",
       "        vertical-align: top;\n",
       "    }\n",
       "\n",
       "    .dataframe thead th {\n",
       "        text-align: right;\n",
       "    }\n",
       "</style>\n",
       "<table border=\"1\" class=\"dataframe\">\n",
       "  <thead>\n",
       "    <tr style=\"text-align: right;\">\n",
       "      <th></th>\n",
       "      <th>goods_name</th>\n",
       "      <th>shop_name</th>\n",
       "      <th>price</th>\n",
       "      <th>purchase_num</th>\n",
       "      <th>location</th>\n",
       "    </tr>\n",
       "  </thead>\n",
       "  <tbody>\n",
       "  </tbody>\n",
       "</table>\n",
       "</div>"
      ],
      "text/plain": [
       "Empty DataFrame\n",
       "Columns: [goods_name, shop_name, price, purchase_num, location]\n",
       "Index: []"
      ]
     },
     "execution_count": 10,
     "metadata": {},
     "output_type": "execute_result"
    }
   ],
   "source": [
    "original_data[original_data[\"price\"].isnull()]"
   ]
  },
  {
   "cell_type": "code",
   "execution_count": 11,
   "id": "2134d928-13dc-4a1b-a0e8-f772dbcba397",
   "metadata": {},
   "outputs": [
    {
     "data": {
      "text/html": [
       "<div>\n",
       "<style scoped>\n",
       "    .dataframe tbody tr th:only-of-type {\n",
       "        vertical-align: middle;\n",
       "    }\n",
       "\n",
       "    .dataframe tbody tr th {\n",
       "        vertical-align: top;\n",
       "    }\n",
       "\n",
       "    .dataframe thead th {\n",
       "        text-align: right;\n",
       "    }\n",
       "</style>\n",
       "<table border=\"1\" class=\"dataframe\">\n",
       "  <thead>\n",
       "    <tr style=\"text-align: right;\">\n",
       "      <th></th>\n",
       "      <th>goods_name</th>\n",
       "      <th>shop_name</th>\n",
       "      <th>price</th>\n",
       "      <th>purchase_num</th>\n",
       "      <th>location</th>\n",
       "    </tr>\n",
       "  </thead>\n",
       "  <tbody>\n",
       "  </tbody>\n",
       "</table>\n",
       "</div>"
      ],
      "text/plain": [
       "Empty DataFrame\n",
       "Columns: [goods_name, shop_name, price, purchase_num, location]\n",
       "Index: []"
      ]
     },
     "execution_count": 11,
     "metadata": {},
     "output_type": "execute_result"
    }
   ],
   "source": [
    "original_data[original_data[\"purchase_num\"].isnull()]"
   ]
  },
  {
   "cell_type": "code",
   "execution_count": 12,
   "id": "e83a63c3-e0e5-4656-be3c-de4070c315cb",
   "metadata": {},
   "outputs": [
    {
     "data": {
      "text/html": [
       "<div>\n",
       "<style scoped>\n",
       "    .dataframe tbody tr th:only-of-type {\n",
       "        vertical-align: middle;\n",
       "    }\n",
       "\n",
       "    .dataframe tbody tr th {\n",
       "        vertical-align: top;\n",
       "    }\n",
       "\n",
       "    .dataframe thead th {\n",
       "        text-align: right;\n",
       "    }\n",
       "</style>\n",
       "<table border=\"1\" class=\"dataframe\">\n",
       "  <thead>\n",
       "    <tr style=\"text-align: right;\">\n",
       "      <th></th>\n",
       "      <th>goods_name</th>\n",
       "      <th>shop_name</th>\n",
       "      <th>price</th>\n",
       "      <th>purchase_num</th>\n",
       "      <th>location</th>\n",
       "    </tr>\n",
       "  </thead>\n",
       "  <tbody>\n",
       "  </tbody>\n",
       "</table>\n",
       "</div>"
      ],
      "text/plain": [
       "Empty DataFrame\n",
       "Columns: [goods_name, shop_name, price, purchase_num, location]\n",
       "Index: []"
      ]
     },
     "execution_count": 12,
     "metadata": {},
     "output_type": "execute_result"
    }
   ],
   "source": [
    "original_data[original_data[\"location\"].isnull()]"
   ]
  },
  {
   "cell_type": "markdown",
   "id": "d3d458ec-9759-41b8-ba95-cc62656ce27a",
   "metadata": {},
   "source": [
    "验证结果显示original_data中没有缺失的数据"
   ]
  },
  {
   "cell_type": "markdown",
   "id": "04cd276c-c788-4442-8c93-d487356470bd",
   "metadata": {},
   "source": [
    "##### 3.2.2.2 评估重复数据\n",
    "由于`goods_name`、`shop_name`和`price`共同构成了产品在某店铺销售情况的唯一标识，因此不能存在`goods_name`、`shop_name`和`price`均相同的记录。\n",
    "\n",
    "首先使用DataFrame的`duplicated()`方法获取所有列均重复的记录："
   ]
  },
  {
   "cell_type": "code",
   "execution_count": 13,
   "id": "a9ff8054-04f1-4b54-a015-002471d5e91b",
   "metadata": {},
   "outputs": [
    {
     "data": {
      "text/html": [
       "<div>\n",
       "<style scoped>\n",
       "    .dataframe tbody tr th:only-of-type {\n",
       "        vertical-align: middle;\n",
       "    }\n",
       "\n",
       "    .dataframe tbody tr th {\n",
       "        vertical-align: top;\n",
       "    }\n",
       "\n",
       "    .dataframe thead th {\n",
       "        text-align: right;\n",
       "    }\n",
       "</style>\n",
       "<table border=\"1\" class=\"dataframe\">\n",
       "  <thead>\n",
       "    <tr style=\"text-align: right;\">\n",
       "      <th></th>\n",
       "      <th>goods_name</th>\n",
       "      <th>shop_name</th>\n",
       "      <th>price</th>\n",
       "      <th>purchase_num</th>\n",
       "      <th>location</th>\n",
       "    </tr>\n",
       "  </thead>\n",
       "  <tbody>\n",
       "    <tr>\n",
       "      <th>64</th>\n",
       "      <td>【官方】乐高赛车系列1974保时捷911 Turbo 3.0赛车75895玩具7岁+</td>\n",
       "      <td>天猫超市</td>\n",
       "      <td>119.00</td>\n",
       "      <td>['492人付款']</td>\n",
       "      <td>上海</td>\n",
       "    </tr>\n",
       "    <tr>\n",
       "      <th>69</th>\n",
       "      <td>乐高(LEGO)积木玩具 75892 迈凯伦塞纳 超级赛车系列粉丝收藏礼物</td>\n",
       "      <td>凌逸</td>\n",
       "      <td>98.00</td>\n",
       "      <td>['456人付款']</td>\n",
       "      <td>广东 深圳</td>\n",
       "    </tr>\n",
       "    <tr>\n",
       "      <th>76</th>\n",
       "      <td>我的世界乐高积木男孩子迷你系列益智拼装儿童机关山洞玩具6-14岁</td>\n",
       "      <td>琳琳积木001</td>\n",
       "      <td>66.00</td>\n",
       "      <td>['1172人付款']</td>\n",
       "      <td>广东 汕头</td>\n",
       "    </tr>\n",
       "    <tr>\n",
       "      <th>95</th>\n",
       "      <td>兼容乐高成年大人高难度遥控积木拼装编程玩具越野跑汽车模型电动</td>\n",
       "      <td>乘势电商</td>\n",
       "      <td>229.00</td>\n",
       "      <td>['377人付款']</td>\n",
       "      <td>广东 中山</td>\n",
       "    </tr>\n",
       "    <tr>\n",
       "      <th>98</th>\n",
       "      <td>LEGO乐高拼装积木42105科技系列机械组漂浮双体船男孩子玩具2020</td>\n",
       "      <td>yuanqi2016</td>\n",
       "      <td>247.00</td>\n",
       "      <td>['41人付款']</td>\n",
       "      <td>上海</td>\n",
       "    </tr>\n",
       "    <tr>\n",
       "      <th>...</th>\n",
       "      <td>...</td>\n",
       "      <td>...</td>\n",
       "      <td>...</td>\n",
       "      <td>...</td>\n",
       "      <td>...</td>\n",
       "    </tr>\n",
       "    <tr>\n",
       "      <th>4372</th>\n",
       "      <td>乐高40165婚礼套装结婚套装新郎新娘40197LEGO拼装玩具伴手礼送人</td>\n",
       "      <td>nc_zone</td>\n",
       "      <td>99.00</td>\n",
       "      <td>['35人付款']</td>\n",
       "      <td>广东 广州</td>\n",
       "    </tr>\n",
       "    <tr>\n",
       "      <th>4373</th>\n",
       "      <td>乐高积木LEGO漫威复仇者联盟76108奇异博士至圣所大对决 男孩玩具</td>\n",
       "      <td>nc_zone</td>\n",
       "      <td>798.00</td>\n",
       "      <td>['8人付款']</td>\n",
       "      <td>广东 广州</td>\n",
       "    </tr>\n",
       "    <tr>\n",
       "      <th>4376</th>\n",
       "      <td>LEGO 乐高 3666 1x6基础板 黑白 红黄橙 蓝绿 深浅灰 米棕紫 湖蓝</td>\n",
       "      <td>禁令十条</td>\n",
       "      <td>0.68</td>\n",
       "      <td>['39人付款']</td>\n",
       "      <td>北京</td>\n",
       "    </tr>\n",
       "    <tr>\n",
       "      <th>4382</th>\n",
       "      <td>LEGO乐高 4599 1x1 水龙头连接件 黑 白 浅灰 红 黄 蓝 米 珍珠金</td>\n",
       "      <td>gaojiayi8888</td>\n",
       "      <td>0.43</td>\n",
       "      <td>['47人付款']</td>\n",
       "      <td>上海</td>\n",
       "    </tr>\n",
       "    <tr>\n",
       "      <th>4386</th>\n",
       "      <td>乐高 LEGO 哈利波特人仔 HP139 赫敏 校服版 75954 短腿</td>\n",
       "      <td>爱吃爱喝酒1212</td>\n",
       "      <td>18.00</td>\n",
       "      <td>['8人付款']</td>\n",
       "      <td>辽宁 沈阳</td>\n",
       "    </tr>\n",
       "  </tbody>\n",
       "</table>\n",
       "<p>993 rows × 5 columns</p>\n",
       "</div>"
      ],
      "text/plain": [
       "                                      goods_name     shop_name   price  \\\n",
       "64    【官方】乐高赛车系列1974保时捷911 Turbo 3.0赛车75895玩具7岁+          天猫超市  119.00   \n",
       "69         乐高(LEGO)积木玩具 75892 迈凯伦塞纳 超级赛车系列粉丝收藏礼物            凌逸   98.00   \n",
       "76              我的世界乐高积木男孩子迷你系列益智拼装儿童机关山洞玩具6-14岁       琳琳积木001   66.00   \n",
       "95                兼容乐高成年大人高难度遥控积木拼装编程玩具越野跑汽车模型电动          乘势电商  229.00   \n",
       "98          LEGO乐高拼装积木42105科技系列机械组漂浮双体船男孩子玩具2020    yuanqi2016  247.00   \n",
       "...                                          ...           ...     ...   \n",
       "4372       乐高40165婚礼套装结婚套装新郎新娘40197LEGO拼装玩具伴手礼送人       nc_zone   99.00   \n",
       "4373         乐高积木LEGO漫威复仇者联盟76108奇异博士至圣所大对决 男孩玩具       nc_zone  798.00   \n",
       "4376    LEGO 乐高 3666 1x6基础板 黑白 红黄橙 蓝绿 深浅灰 米棕紫 湖蓝          禁令十条    0.68   \n",
       "4382   LEGO乐高 4599 1x1 水龙头连接件 黑 白 浅灰 红 黄 蓝 米 珍珠金  gaojiayi8888    0.43   \n",
       "4386        乐高 LEGO 哈利波特人仔 HP139 赫敏 校服版 75954 短腿     爱吃爱喝酒1212   18.00   \n",
       "\n",
       "     purchase_num location  \n",
       "64     ['492人付款']       上海  \n",
       "69     ['456人付款']    广东 深圳  \n",
       "76    ['1172人付款']    广东 汕头  \n",
       "95     ['377人付款']    广东 中山  \n",
       "98      ['41人付款']       上海  \n",
       "...           ...      ...  \n",
       "4372    ['35人付款']    广东 广州  \n",
       "4373     ['8人付款']    广东 广州  \n",
       "4376    ['39人付款']       北京  \n",
       "4382    ['47人付款']       上海  \n",
       "4386     ['8人付款']    辽宁 沈阳  \n",
       "\n",
       "[993 rows x 5 columns]"
      ]
     },
     "execution_count": 13,
     "metadata": {},
     "output_type": "execute_result"
    }
   ],
   "source": [
    "original_data[original_data.duplicated()]"
   ]
  },
  {
   "cell_type": "markdown",
   "id": "5535d081-9f24-452b-898d-bff238ab817c",
   "metadata": {},
   "source": [
    "根据输出结果，可以发现，共有993项观察值所有变量值均重复，对于这些重复的行需要进行删除。"
   ]
  },
  {
   "cell_type": "markdown",
   "id": "add1b0a6-9da9-40b3-96f2-c192c4055875",
   "metadata": {},
   "source": [
    "**数据清洗2**: 使用`DataFrame`的`drop_duplicates`方法删除所有列值均重复的行"
   ]
  },
  {
   "cell_type": "code",
   "execution_count": 14,
   "id": "e633ef1c-63ba-4a99-9550-756efb2ede26",
   "metadata": {},
   "outputs": [
    {
     "data": {
      "text/html": [
       "<div>\n",
       "<style scoped>\n",
       "    .dataframe tbody tr th:only-of-type {\n",
       "        vertical-align: middle;\n",
       "    }\n",
       "\n",
       "    .dataframe tbody tr th {\n",
       "        vertical-align: top;\n",
       "    }\n",
       "\n",
       "    .dataframe thead th {\n",
       "        text-align: right;\n",
       "    }\n",
       "</style>\n",
       "<table border=\"1\" class=\"dataframe\">\n",
       "  <thead>\n",
       "    <tr style=\"text-align: right;\">\n",
       "      <th></th>\n",
       "      <th>goods_name</th>\n",
       "      <th>shop_name</th>\n",
       "      <th>price</th>\n",
       "      <th>purchase_num</th>\n",
       "      <th>location</th>\n",
       "    </tr>\n",
       "  </thead>\n",
       "  <tbody>\n",
       "  </tbody>\n",
       "</table>\n",
       "</div>"
      ],
      "text/plain": [
       "Empty DataFrame\n",
       "Columns: [goods_name, shop_name, price, purchase_num, location]\n",
       "Index: []"
      ]
     },
     "execution_count": 14,
     "metadata": {},
     "output_type": "execute_result"
    }
   ],
   "source": [
    "cleaned_data = cleaned_data.drop_duplicates()\n",
    "cleaned_data[cleaned_data.duplicated()]"
   ]
  },
  {
   "cell_type": "markdown",
   "id": "2ab6d2d6-f127-4473-b7a0-700e5861b139",
   "metadata": {},
   "source": [
    "输出结果显示，993项重复数据已删除"
   ]
  },
  {
   "cell_type": "markdown",
   "id": "b1204a3d-65fa-4722-9fa2-389a292af093",
   "metadata": {},
   "source": [
    "再次使用DataFrame的duplicated()方法获取`goods_name`、`shop_name`和`price`列均重复的记录："
   ]
  },
  {
   "cell_type": "code",
   "execution_count": 15,
   "id": "6b201ecc-2dfa-444c-a5a1-941c8db9a5b4",
   "metadata": {},
   "outputs": [
    {
     "data": {
      "text/html": [
       "<div>\n",
       "<style scoped>\n",
       "    .dataframe tbody tr th:only-of-type {\n",
       "        vertical-align: middle;\n",
       "    }\n",
       "\n",
       "    .dataframe tbody tr th {\n",
       "        vertical-align: top;\n",
       "    }\n",
       "\n",
       "    .dataframe thead th {\n",
       "        text-align: right;\n",
       "    }\n",
       "</style>\n",
       "<table border=\"1\" class=\"dataframe\">\n",
       "  <thead>\n",
       "    <tr style=\"text-align: right;\">\n",
       "      <th></th>\n",
       "      <th>goods_name</th>\n",
       "      <th>shop_name</th>\n",
       "      <th>price</th>\n",
       "      <th>purchase_num</th>\n",
       "      <th>location</th>\n",
       "    </tr>\n",
       "  </thead>\n",
       "  <tbody>\n",
       "    <tr>\n",
       "      <th>607</th>\n",
       "      <td>乐高旗舰店官网悟空小侠系列80012孙悟空齐天大圣黄金机甲</td>\n",
       "      <td>乐高官方旗舰店</td>\n",
       "      <td>1299.0</td>\n",
       "      <td>223</td>\n",
       "      <td>浙江 嘉兴</td>\n",
       "    </tr>\n",
       "    <tr>\n",
       "      <th>1509</th>\n",
       "      <td>乐高5月新品悟空小侠系列80008悟空小侠云霄战机孙悟空齐天大圣</td>\n",
       "      <td>乐高官方旗舰店</td>\n",
       "      <td>499.0</td>\n",
       "      <td>203</td>\n",
       "      <td>浙江 嘉兴</td>\n",
       "    </tr>\n",
       "    <tr>\n",
       "      <th>2939</th>\n",
       "      <td>乐高5月新品悟空小侠系列80008悟空小侠云霄战机孙悟空齐天大圣</td>\n",
       "      <td>乐高官方旗舰店</td>\n",
       "      <td>499.0</td>\n",
       "      <td>101</td>\n",
       "      <td>浙江 嘉兴</td>\n",
       "    </tr>\n",
       "    <tr>\n",
       "      <th>4265</th>\n",
       "      <td>乐高旗舰店官网5月新品悟空小侠系列80009猪大厨移动钉耙车玩具</td>\n",
       "      <td>乐高官方旗舰店</td>\n",
       "      <td>599.0</td>\n",
       "      <td>76</td>\n",
       "      <td>浙江 嘉兴</td>\n",
       "    </tr>\n",
       "  </tbody>\n",
       "</table>\n",
       "</div>"
      ],
      "text/plain": [
       "                            goods_name shop_name   price  purchase_num  \\\n",
       "607      乐高旗舰店官网悟空小侠系列80012孙悟空齐天大圣黄金机甲   乐高官方旗舰店  1299.0           223   \n",
       "1509  乐高5月新品悟空小侠系列80008悟空小侠云霄战机孙悟空齐天大圣   乐高官方旗舰店   499.0           203   \n",
       "2939  乐高5月新品悟空小侠系列80008悟空小侠云霄战机孙悟空齐天大圣   乐高官方旗舰店   499.0           101   \n",
       "4265  乐高旗舰店官网5月新品悟空小侠系列80009猪大厨移动钉耙车玩具   乐高官方旗舰店   599.0            76   \n",
       "\n",
       "     location  \n",
       "607     浙江 嘉兴  \n",
       "1509    浙江 嘉兴  \n",
       "2939    浙江 嘉兴  \n",
       "4265    浙江 嘉兴  "
      ]
     },
     "execution_count": 15,
     "metadata": {},
     "output_type": "execute_result"
    }
   ],
   "source": [
    "cleaned_data[cleaned_data.duplicated(subset=[\"goods_name\", \"shop_name\", \"price\"])]"
   ]
  },
  {
   "cell_type": "markdown",
   "id": "086d840d-03ef-4e9c-ae68-ad4033e2c102",
   "metadata": {},
   "source": [
    "输出结果显示，有4项观察值`goods_name`、`shop_name`和`price`列均重复，取其中一条重复数据观察`purchase_num`列不的情况。（在前面的数据清洗中已经删除掉了所有行都一致的数据，由于每个店铺所在城市是固定的，可以忽略本列数据影响，因此这个时候筛选出来的重复数据中`purchase_num`应该包含不同的值，下面做一次验证）"
   ]
  },
  {
   "cell_type": "code",
   "execution_count": 16,
   "id": "588b8e9c-3b81-47de-bc74-5dc18d0ec919",
   "metadata": {},
   "outputs": [
    {
     "data": {
      "text/html": [
       "<div>\n",
       "<style scoped>\n",
       "    .dataframe tbody tr th:only-of-type {\n",
       "        vertical-align: middle;\n",
       "    }\n",
       "\n",
       "    .dataframe tbody tr th {\n",
       "        vertical-align: top;\n",
       "    }\n",
       "\n",
       "    .dataframe thead th {\n",
       "        text-align: right;\n",
       "    }\n",
       "</style>\n",
       "<table border=\"1\" class=\"dataframe\">\n",
       "  <thead>\n",
       "    <tr style=\"text-align: right;\">\n",
       "      <th></th>\n",
       "      <th>goods_name</th>\n",
       "      <th>shop_name</th>\n",
       "      <th>price</th>\n",
       "      <th>purchase_num</th>\n",
       "      <th>location</th>\n",
       "    </tr>\n",
       "  </thead>\n",
       "  <tbody>\n",
       "    <tr>\n",
       "      <th>819</th>\n",
       "      <td>乐高5月新品悟空小侠系列80008悟空小侠云霄战机孙悟空齐天大圣</td>\n",
       "      <td>乐高官方旗舰店</td>\n",
       "      <td>499.0</td>\n",
       "      <td>2371</td>\n",
       "      <td>浙江 嘉兴</td>\n",
       "    </tr>\n",
       "    <tr>\n",
       "      <th>1509</th>\n",
       "      <td>乐高5月新品悟空小侠系列80008悟空小侠云霄战机孙悟空齐天大圣</td>\n",
       "      <td>乐高官方旗舰店</td>\n",
       "      <td>499.0</td>\n",
       "      <td>203</td>\n",
       "      <td>浙江 嘉兴</td>\n",
       "    </tr>\n",
       "    <tr>\n",
       "      <th>2939</th>\n",
       "      <td>乐高5月新品悟空小侠系列80008悟空小侠云霄战机孙悟空齐天大圣</td>\n",
       "      <td>乐高官方旗舰店</td>\n",
       "      <td>499.0</td>\n",
       "      <td>101</td>\n",
       "      <td>浙江 嘉兴</td>\n",
       "    </tr>\n",
       "  </tbody>\n",
       "</table>\n",
       "</div>"
      ],
      "text/plain": [
       "                            goods_name shop_name  price  purchase_num location\n",
       "819   乐高5月新品悟空小侠系列80008悟空小侠云霄战机孙悟空齐天大圣   乐高官方旗舰店  499.0          2371    浙江 嘉兴\n",
       "1509  乐高5月新品悟空小侠系列80008悟空小侠云霄战机孙悟空齐天大圣   乐高官方旗舰店  499.0           203    浙江 嘉兴\n",
       "2939  乐高5月新品悟空小侠系列80008悟空小侠云霄战机孙悟空齐天大圣   乐高官方旗舰店  499.0           101    浙江 嘉兴"
      ]
     },
     "execution_count": 16,
     "metadata": {},
     "output_type": "execute_result"
    }
   ],
   "source": [
    "cleaned_data[(cleaned_data[\"goods_name\"] == \"乐高5月新品悟空小侠系列80008悟空小侠云霄战机孙悟空齐天大圣\") & (cleaned_data[\"shop_name\"] == \"乐高官方旗舰店\")]"
   ]
  },
  {
   "cell_type": "markdown",
   "id": "4a1fb51f-2875-4091-b6f0-d2300ba33da1",
   "metadata": {},
   "source": [
    "通过观察可以发现，`goods_name`、`shop_name`和`price`列均重复的行，`purchase_num`列数据不一致，可以进行合并处理。"
   ]
  },
  {
   "cell_type": "markdown",
   "id": "e4a39ee4-9fc1-4692-81bc-5cd7c86359a0",
   "metadata": {},
   "source": [
    "**数据清洗3：** 使用DataFrame的`groupby().agg()`分类汇总方法合并`goods_name`、`shop_name`和`price`列重复，`purchase_num`列数据不一致的行，并对`purchase_num`列中的数据做求和处理。"
   ]
  },
  {
   "cell_type": "code",
   "execution_count": 18,
   "id": "18669c51-aa8d-4c59-b475-d54823a51c32",
   "metadata": {},
   "outputs": [
    {
     "data": {
      "text/html": [
       "<div>\n",
       "<style scoped>\n",
       "    .dataframe tbody tr th:only-of-type {\n",
       "        vertical-align: middle;\n",
       "    }\n",
       "\n",
       "    .dataframe tbody tr th {\n",
       "        vertical-align: top;\n",
       "    }\n",
       "\n",
       "    .dataframe thead th {\n",
       "        text-align: right;\n",
       "    }\n",
       "</style>\n",
       "<table border=\"1\" class=\"dataframe\">\n",
       "  <thead>\n",
       "    <tr style=\"text-align: right;\">\n",
       "      <th></th>\n",
       "      <th>goods_name</th>\n",
       "      <th>shop_name</th>\n",
       "      <th>price</th>\n",
       "      <th>location</th>\n",
       "      <th>purchase_num</th>\n",
       "    </tr>\n",
       "  </thead>\n",
       "  <tbody>\n",
       "    <tr>\n",
       "      <th>0</th>\n",
       "      <td>(legofree) 乐高 LEGO 21050 建筑工作室, 順豐包郵</td>\n",
       "      <td>legofree</td>\n",
       "      <td>3540.0</td>\n",
       "      <td>广东 深圳</td>\n",
       "      <td>8</td>\n",
       "    </tr>\n",
       "    <tr>\n",
       "      <th>1</th>\n",
       "      <td>10月新品乐高ow守望先锋系列75976破坏球小颗粒积木儿童拼装玩具</td>\n",
       "      <td>唛宝网</td>\n",
       "      <td>248.0</td>\n",
       "      <td>上海</td>\n",
       "      <td>103</td>\n",
       "    </tr>\n",
       "    <tr>\n",
       "      <th>2</th>\n",
       "      <td>1月新品 乐高LEGO 幻影忍者 71710 忍者改装赛车</td>\n",
       "      <td>wang爱heng</td>\n",
       "      <td>245.0</td>\n",
       "      <td>上海</td>\n",
       "      <td>24</td>\n",
       "    </tr>\n",
       "    <tr>\n",
       "      <th>3</th>\n",
       "      <td>1月新品 乐高LEGO大颗粒 10914 得宝豪华缤纷桶</td>\n",
       "      <td>wang爱heng</td>\n",
       "      <td>338.0</td>\n",
       "      <td>上海</td>\n",
       "      <td>22</td>\n",
       "    </tr>\n",
       "    <tr>\n",
       "      <th>4</th>\n",
       "      <td>1月新品LEGO乐高幻影忍者系列71702黄金机甲小颗粒积木8岁+玩具</td>\n",
       "      <td>半步多l</td>\n",
       "      <td>259.0</td>\n",
       "      <td>上海</td>\n",
       "      <td>17</td>\n",
       "    </tr>\n",
       "    <tr>\n",
       "      <th>...</th>\n",
       "      <td>...</td>\n",
       "      <td>...</td>\n",
       "      <td>...</td>\n",
       "      <td>...</td>\n",
       "      <td>...</td>\n",
       "    </tr>\n",
       "    <tr>\n",
       "      <th>3402</th>\n",
       "      <td>香港正品 乐高街景系列LEGO10247 10253 10214 10234 10255 1...</td>\n",
       "      <td>siokong</td>\n",
       "      <td>398.0</td>\n",
       "      <td>广东 深圳</td>\n",
       "      <td>9</td>\n",
       "    </tr>\n",
       "    <tr>\n",
       "      <th>3403</th>\n",
       "      <td>高难度乐高大型积木航空母舰模型男孩拼装玩具军事系列儿童益智力</td>\n",
       "      <td>小天才积木城</td>\n",
       "      <td>168.0</td>\n",
       "      <td>浙江 温州</td>\n",
       "      <td>89</td>\n",
       "    </tr>\n",
       "    <tr>\n",
       "      <th>3404</th>\n",
       "      <td>高难度航母男孩智力成人益智8-10-12岁礼物拼装玩具兼容 乐高积木</td>\n",
       "      <td>梦幻猪尼</td>\n",
       "      <td>228.0</td>\n",
       "      <td>广东 汕头</td>\n",
       "      <td>69</td>\n",
       "    </tr>\n",
       "    <tr>\n",
       "      <th>3405</th>\n",
       "      <td>高难度限量积木拼装玩具益智大人乐高10266阿波罗11号登月舱男孩</td>\n",
       "      <td>wanju021</td>\n",
       "      <td>606.0</td>\n",
       "      <td>上海</td>\n",
       "      <td>13</td>\n",
       "    </tr>\n",
       "    <tr>\n",
       "      <th>3406</th>\n",
       "      <td>黑珍珠号大型海盗船男孩子兼容乐高拼装益智力积木模型玩具8-14岁</td>\n",
       "      <td>衣嘉缘商贸</td>\n",
       "      <td>99.0</td>\n",
       "      <td>广东 云浮</td>\n",
       "      <td>95</td>\n",
       "    </tr>\n",
       "  </tbody>\n",
       "</table>\n",
       "<p>3407 rows × 5 columns</p>\n",
       "</div>"
      ],
      "text/plain": [
       "                                             goods_name  shop_name   price  \\\n",
       "0                  (legofree) 乐高 LEGO 21050 建筑工作室, 順豐包郵   legofree  3540.0   \n",
       "1                    10月新品乐高ow守望先锋系列75976破坏球小颗粒积木儿童拼装玩具        唛宝网   248.0   \n",
       "2                         1月新品 乐高LEGO 幻影忍者 71710 忍者改装赛车  wang爱heng   245.0   \n",
       "3                          1月新品 乐高LEGO大颗粒 10914 得宝豪华缤纷桶  wang爱heng   338.0   \n",
       "4                   1月新品LEGO乐高幻影忍者系列71702黄金机甲小颗粒积木8岁+玩具       半步多l   259.0   \n",
       "...                                                 ...        ...     ...   \n",
       "3402  香港正品 乐高街景系列LEGO10247 10253 10214 10234 10255 1...    siokong   398.0   \n",
       "3403                     高难度乐高大型积木航空母舰模型男孩拼装玩具军事系列儿童益智力     小天才积木城   168.0   \n",
       "3404                 高难度航母男孩智力成人益智8-10-12岁礼物拼装玩具兼容 乐高积木       梦幻猪尼   228.0   \n",
       "3405                  高难度限量积木拼装玩具益智大人乐高10266阿波罗11号登月舱男孩   wanju021   606.0   \n",
       "3406                   黑珍珠号大型海盗船男孩子兼容乐高拼装益智力积木模型玩具8-14岁      衣嘉缘商贸    99.0   \n",
       "\n",
       "     location  purchase_num  \n",
       "0       广东 深圳             8  \n",
       "1          上海           103  \n",
       "2          上海            24  \n",
       "3          上海            22  \n",
       "4          上海            17  \n",
       "...       ...           ...  \n",
       "3402    广东 深圳             9  \n",
       "3403    浙江 温州            89  \n",
       "3404    广东 汕头            69  \n",
       "3405       上海            13  \n",
       "3406    广东 云浮            95  \n",
       "\n",
       "[3407 rows x 5 columns]"
      ]
     },
     "execution_count": 18,
     "metadata": {},
     "output_type": "execute_result"
    }
   ],
   "source": [
    "cleaned_data = cleaned_data.groupby([\"goods_name\", \"shop_name\", \"price\", \"location\"]).agg({\"purchase_num\": \"sum\"})\n",
    "cleaned_data = cleaned_data.reset_index()\n",
    "cleaned_data"
   ]
  },
  {
   "cell_type": "code",
   "execution_count": 19,
   "id": "ab60c434-4a3e-4d0c-88e7-5e3b221d9f31",
   "metadata": {},
   "outputs": [
    {
     "data": {
      "text/html": [
       "<div>\n",
       "<style scoped>\n",
       "    .dataframe tbody tr th:only-of-type {\n",
       "        vertical-align: middle;\n",
       "    }\n",
       "\n",
       "    .dataframe tbody tr th {\n",
       "        vertical-align: top;\n",
       "    }\n",
       "\n",
       "    .dataframe thead th {\n",
       "        text-align: right;\n",
       "    }\n",
       "</style>\n",
       "<table border=\"1\" class=\"dataframe\">\n",
       "  <thead>\n",
       "    <tr style=\"text-align: right;\">\n",
       "      <th></th>\n",
       "      <th>goods_name</th>\n",
       "      <th>shop_name</th>\n",
       "      <th>price</th>\n",
       "      <th>location</th>\n",
       "      <th>purchase_num</th>\n",
       "    </tr>\n",
       "  </thead>\n",
       "  <tbody>\n",
       "  </tbody>\n",
       "</table>\n",
       "</div>"
      ],
      "text/plain": [
       "Empty DataFrame\n",
       "Columns: [goods_name, shop_name, price, location, purchase_num]\n",
       "Index: []"
      ]
     },
     "execution_count": 19,
     "metadata": {},
     "output_type": "execute_result"
    }
   ],
   "source": [
    "cleaned_data[cleaned_data.duplicated(subset=[\"goods_name\", \"shop_name\", \"price\"])]"
   ]
  },
  {
   "cell_type": "code",
   "execution_count": 20,
   "id": "767151a7-dc2c-440a-91f9-54a8433056a2",
   "metadata": {},
   "outputs": [
    {
     "data": {
      "text/html": [
       "<div>\n",
       "<style scoped>\n",
       "    .dataframe tbody tr th:only-of-type {\n",
       "        vertical-align: middle;\n",
       "    }\n",
       "\n",
       "    .dataframe tbody tr th {\n",
       "        vertical-align: top;\n",
       "    }\n",
       "\n",
       "    .dataframe thead th {\n",
       "        text-align: right;\n",
       "    }\n",
       "</style>\n",
       "<table border=\"1\" class=\"dataframe\">\n",
       "  <thead>\n",
       "    <tr style=\"text-align: right;\">\n",
       "      <th></th>\n",
       "      <th>goods_name</th>\n",
       "      <th>shop_name</th>\n",
       "      <th>price</th>\n",
       "      <th>location</th>\n",
       "      <th>purchase_num</th>\n",
       "    </tr>\n",
       "  </thead>\n",
       "  <tbody>\n",
       "    <tr>\n",
       "      <th>1505</th>\n",
       "      <td>乐高5月新品悟空小侠系列80008悟空小侠云霄战机孙悟空齐天大圣</td>\n",
       "      <td>乐高官方旗舰店</td>\n",
       "      <td>499.0</td>\n",
       "      <td>浙江 嘉兴</td>\n",
       "      <td>2675</td>\n",
       "    </tr>\n",
       "  </tbody>\n",
       "</table>\n",
       "</div>"
      ],
      "text/plain": [
       "                            goods_name shop_name  price location  purchase_num\n",
       "1505  乐高5月新品悟空小侠系列80008悟空小侠云霄战机孙悟空齐天大圣   乐高官方旗舰店  499.0    浙江 嘉兴          2675"
      ]
     },
     "execution_count": 20,
     "metadata": {},
     "output_type": "execute_result"
    }
   ],
   "source": [
    "cleaned_data[(cleaned_data[\"goods_name\"] == \"乐高5月新品悟空小侠系列80008悟空小侠云霄战机孙悟空齐天大圣\") & (cleaned_data[\"shop_name\"] == \"乐高官方旗舰店\")]"
   ]
  },
  {
   "cell_type": "markdown",
   "id": "1721fe20-dc7d-42fa-a0a4-dc4ccd02a4d6",
   "metadata": {},
   "source": [
    "输出结果显示，重复观察值已经合并为一行，并且`purchase_num`列进行了求和"
   ]
  },
  {
   "cell_type": "markdown",
   "id": "64a871fd-b4c6-4ec8-853c-cb54eb6a9bc5",
   "metadata": {},
   "source": [
    "##### 3.2.2.3 评估不一致数据\n",
    "不一致数据可能存在`shop_name`中，需要验证是否存在多个值指代一个产品/店铺的情况。\n",
    "\n",
    "使用Series的`value_counts()`查看相关变量包含哪些值，以及值对应的个数："
   ]
  },
  {
   "cell_type": "code",
   "execution_count": 23,
   "id": "d4f486bb-6f4b-49eb-a7a6-7831434b0420",
   "metadata": {},
   "outputs": [
    {
     "data": {
      "text/plain": [
       "shop_name\n",
       "乐高官方旗舰店        121\n",
       "nc_zone        105\n",
       "cnnetearn      100\n",
       "liji0904        99\n",
       "浅海蓝深            62\n",
       "              ... \n",
       "kon商店            1\n",
       "tb74218179       1\n",
       "冲击力服装            1\n",
       "tb154568555      1\n",
       "lovetautau       1\n",
       "Name: count, Length: 739, dtype: int64"
      ]
     },
     "execution_count": 23,
     "metadata": {},
     "output_type": "execute_result"
    }
   ],
   "source": [
    "cleaned_data[\"shop_name\"].value_counts()"
   ]
  },
  {
   "cell_type": "code",
   "execution_count": 24,
   "id": "f20f8c95-1544-4546-8e4c-8e0330d54229",
   "metadata": {},
   "outputs": [
    {
     "data": {
      "text/plain": [
       "2426     0202jelly\n",
       "2436     07blzhou2\n",
       "2183     07blzhou2\n",
       "70      323716茉莉花茶\n",
       "2354         38ren\n",
       "           ...    \n",
       "126           麦宝的店\n",
       "1495          麦宝的店\n",
       "1076          麦若紫凌\n",
       "353         黄大胖买手店\n",
       "2545         黄梓聪zc\n",
       "Name: shop_name, Length: 3407, dtype: object"
      ]
     },
     "execution_count": 24,
     "metadata": {},
     "output_type": "execute_result"
    }
   ],
   "source": [
    "cleaned_data[\"shop_name\"].sort_values()"
   ]
  },
  {
   "cell_type": "markdown",
   "id": "66f20be2-d65a-4e21-9cb9-e7e42ff2c6b2",
   "metadata": {},
   "source": [
    "由于店铺名称数据种类较多，且很难通过名称判定是否为同一家店铺，识别多个值指代一个店铺的情况难度较大，暂时不做修改。"
   ]
  },
  {
   "cell_type": "markdown",
   "id": "991cb6b4-c18b-4f2b-b4ab-e931c7d5753d",
   "metadata": {},
   "source": [
    "##### 3.2.2.4 评估无效或错误数据\n",
    "首先通过`DataFrame`的`describe()`方法对统计信息进行快速了解"
   ]
  },
  {
   "cell_type": "code",
   "execution_count": 25,
   "id": "1da5bf44-5be8-4fcb-bfb8-c91ff06bb01a",
   "metadata": {},
   "outputs": [
    {
     "data": {
      "text/html": [
       "<div>\n",
       "<style scoped>\n",
       "    .dataframe tbody tr th:only-of-type {\n",
       "        vertical-align: middle;\n",
       "    }\n",
       "\n",
       "    .dataframe tbody tr th {\n",
       "        vertical-align: top;\n",
       "    }\n",
       "\n",
       "    .dataframe thead th {\n",
       "        text-align: right;\n",
       "    }\n",
       "</style>\n",
       "<table border=\"1\" class=\"dataframe\">\n",
       "  <thead>\n",
       "    <tr style=\"text-align: right;\">\n",
       "      <th></th>\n",
       "      <th>price</th>\n",
       "      <th>purchase_num</th>\n",
       "    </tr>\n",
       "  </thead>\n",
       "  <tbody>\n",
       "    <tr>\n",
       "      <th>count</th>\n",
       "      <td>3407.000000</td>\n",
       "      <td>3407.000000</td>\n",
       "    </tr>\n",
       "    <tr>\n",
       "      <th>mean</th>\n",
       "      <td>358.746739</td>\n",
       "      <td>87.595832</td>\n",
       "    </tr>\n",
       "    <tr>\n",
       "      <th>std</th>\n",
       "      <td>634.010396</td>\n",
       "      <td>282.695677</td>\n",
       "    </tr>\n",
       "    <tr>\n",
       "      <th>min</th>\n",
       "      <td>0.060000</td>\n",
       "      <td>0.000000</td>\n",
       "    </tr>\n",
       "    <tr>\n",
       "      <th>25%</th>\n",
       "      <td>48.000000</td>\n",
       "      <td>8.000000</td>\n",
       "    </tr>\n",
       "    <tr>\n",
       "      <th>50%</th>\n",
       "      <td>138.000000</td>\n",
       "      <td>23.000000</td>\n",
       "    </tr>\n",
       "    <tr>\n",
       "      <th>75%</th>\n",
       "      <td>396.500000</td>\n",
       "      <td>71.000000</td>\n",
       "    </tr>\n",
       "    <tr>\n",
       "      <th>max</th>\n",
       "      <td>8888.000000</td>\n",
       "      <td>7000.000000</td>\n",
       "    </tr>\n",
       "  </tbody>\n",
       "</table>\n",
       "</div>"
      ],
      "text/plain": [
       "             price  purchase_num\n",
       "count  3407.000000   3407.000000\n",
       "mean    358.746739     87.595832\n",
       "std     634.010396    282.695677\n",
       "min       0.060000      0.000000\n",
       "25%      48.000000      8.000000\n",
       "50%     138.000000     23.000000\n",
       "75%     396.500000     71.000000\n",
       "max    8888.000000   7000.000000"
      ]
     },
     "execution_count": 25,
     "metadata": {},
     "output_type": "execute_result"
    }
   ],
   "source": [
    "cleaned_data.describe()"
   ]
  },
  {
   "cell_type": "markdown",
   "id": "6bf67d54-233a-4305-bcc6-e0dd4a380948",
   "metadata": {},
   "source": [
    "从`purchase_num`的平均值和最小值来看，不存在数据为负数的异常情况，为干净数据。"
   ]
  },
  {
   "cell_type": "markdown",
   "id": "870cbfa6-4b5a-4ee0-9307-9c345310511c",
   "metadata": {},
   "source": [
    "### 3.3 总结\n",
    "\n",
    "从数评估来看，原始数据存在以下问题：  \n",
    "1. `purchase_num`的数据类型为字符串，需要转变为整数型便于后续计算；  \n",
    "2. 有大量重复的行需要进行删除处理；\n",
    "3. 除了`purchase_num`列其它列的值均一致的行，需要对`purchase_num`列进行求和合并为一行数据。"
   ]
  },
  {
   "cell_type": "markdown",
   "id": "61abd60e-c846-4f1a-911f-2fb7b97cb423",
   "metadata": {},
   "source": [
    "### 3.3 保存清洗好的数据\n",
    "使用Pandas的`to_cvs()`函数将清洗好的数据，存储到新的文件中，文件名为`乐高淘宝数据(清洗后）.csv`\n",
    "\n",
    "//encoding参数指定文件编码，避免中文乱码问题，index参数设置为false表示忽略位置索引"
   ]
  },
  {
   "cell_type": "code",
   "execution_count": 40,
   "id": "4bd98d82-5ee7-4ea8-a5cf-26074b098308",
   "metadata": {},
   "outputs": [],
   "source": [
    "cleaned_data.to_csv(\"乐高淘宝数据(清洗后）.csv\", encoding=\"utf-8_sig\", index=False) "
   ]
  },
  {
   "cell_type": "code",
   "execution_count": 34,
   "id": "446b1596-8d1a-40c7-99d9-840c647d4c9c",
   "metadata": {},
   "outputs": [
    {
     "data": {
      "text/html": [
       "<div>\n",
       "<style scoped>\n",
       "    .dataframe tbody tr th:only-of-type {\n",
       "        vertical-align: middle;\n",
       "    }\n",
       "\n",
       "    .dataframe tbody tr th {\n",
       "        vertical-align: top;\n",
       "    }\n",
       "\n",
       "    .dataframe thead th {\n",
       "        text-align: right;\n",
       "    }\n",
       "</style>\n",
       "<table border=\"1\" class=\"dataframe\">\n",
       "  <thead>\n",
       "    <tr style=\"text-align: right;\">\n",
       "      <th></th>\n",
       "      <th>goods_name</th>\n",
       "      <th>shop_name</th>\n",
       "      <th>price</th>\n",
       "      <th>location</th>\n",
       "      <th>purchase_num</th>\n",
       "    </tr>\n",
       "  </thead>\n",
       "  <tbody>\n",
       "    <tr>\n",
       "      <th>0</th>\n",
       "      <td>(legofree) 乐高 LEGO 21050 建筑工作室, 順豐包郵</td>\n",
       "      <td>legofree</td>\n",
       "      <td>3540.0</td>\n",
       "      <td>广东 深圳</td>\n",
       "      <td>8</td>\n",
       "    </tr>\n",
       "    <tr>\n",
       "      <th>1</th>\n",
       "      <td>10月新品乐高ow守望先锋系列75976破坏球小颗粒积木儿童拼装玩具</td>\n",
       "      <td>唛宝网</td>\n",
       "      <td>248.0</td>\n",
       "      <td>上海</td>\n",
       "      <td>103</td>\n",
       "    </tr>\n",
       "    <tr>\n",
       "      <th>2</th>\n",
       "      <td>1月新品 乐高LEGO 幻影忍者 71710 忍者改装赛车</td>\n",
       "      <td>wang爱heng</td>\n",
       "      <td>245.0</td>\n",
       "      <td>上海</td>\n",
       "      <td>24</td>\n",
       "    </tr>\n",
       "    <tr>\n",
       "      <th>3</th>\n",
       "      <td>1月新品 乐高LEGO大颗粒 10914 得宝豪华缤纷桶</td>\n",
       "      <td>wang爱heng</td>\n",
       "      <td>338.0</td>\n",
       "      <td>上海</td>\n",
       "      <td>22</td>\n",
       "    </tr>\n",
       "    <tr>\n",
       "      <th>4</th>\n",
       "      <td>1月新品LEGO乐高幻影忍者系列71702黄金机甲小颗粒积木8岁+玩具</td>\n",
       "      <td>半步多l</td>\n",
       "      <td>259.0</td>\n",
       "      <td>上海</td>\n",
       "      <td>17</td>\n",
       "    </tr>\n",
       "    <tr>\n",
       "      <th>5</th>\n",
       "      <td>1月新品LEGO乐高幻影忍者系列71706寇的极速战车小颗粒积木玩具</td>\n",
       "      <td>半步多l</td>\n",
       "      <td>65.0</td>\n",
       "      <td>上海</td>\n",
       "      <td>12</td>\n",
       "    </tr>\n",
       "    <tr>\n",
       "      <th>6</th>\n",
       "      <td>1月新品LEGO乐高幻影忍者系列71710忍者改装赛车积木玩具</td>\n",
       "      <td>半步多l</td>\n",
       "      <td>259.0</td>\n",
       "      <td>上海</td>\n",
       "      <td>8</td>\n",
       "    </tr>\n",
       "    <tr>\n",
       "      <th>7</th>\n",
       "      <td>1月新品LEGO乐高幻影忍者系列71713帝国神龙小颗粒积木玩具</td>\n",
       "      <td>半步多l</td>\n",
       "      <td>229.0</td>\n",
       "      <td>上海</td>\n",
       "      <td>2</td>\n",
       "    </tr>\n",
       "    <tr>\n",
       "      <th>8</th>\n",
       "      <td>1月新品LEGO乐高幻影忍者系列71714凯/71715杰/71716劳埃德的街机</td>\n",
       "      <td>半步多l</td>\n",
       "      <td>70.0</td>\n",
       "      <td>上海</td>\n",
       "      <td>227</td>\n",
       "    </tr>\n",
       "    <tr>\n",
       "      <th>9</th>\n",
       "      <td>1月新品LEGO乐高幻影忍者系列71714凯/71715杰/71716劳埃德的街机</td>\n",
       "      <td>老汉触网</td>\n",
       "      <td>74.0</td>\n",
       "      <td>江苏 苏州</td>\n",
       "      <td>289</td>\n",
       "    </tr>\n",
       "    <tr>\n",
       "      <th>10</th>\n",
       "      <td>1月新品LEGO乐高我的世界系列21159掠夺者前哨站小颗粒积木玩具</td>\n",
       "      <td>半步多l</td>\n",
       "      <td>249.0</td>\n",
       "      <td>上海</td>\n",
       "      <td>8</td>\n",
       "    </tr>\n",
       "    <tr>\n",
       "      <th>11</th>\n",
       "      <td>2017新款乐高积木玩具LEGO 10847数字小火车 Duplo 得宝 大颗粒</td>\n",
       "      <td>zhoushengci</td>\n",
       "      <td>103.0</td>\n",
       "      <td>浙江 杭州</td>\n",
       "      <td>20</td>\n",
       "    </tr>\n",
       "    <tr>\n",
       "      <th>12</th>\n",
       "      <td>2018乐高积木Lego 创意百变系列 31071 无人机的探险家 现货</td>\n",
       "      <td>浅海蓝深</td>\n",
       "      <td>62.0</td>\n",
       "      <td>湖北 武汉</td>\n",
       "      <td>13</td>\n",
       "    </tr>\n",
       "    <tr>\n",
       "      <th>13</th>\n",
       "      <td>2018新品乐高得宝系列 10864我的游乐场创意积木盒 LEGO</td>\n",
       "      <td>杭州乐高折扣店</td>\n",
       "      <td>328.0</td>\n",
       "      <td>浙江 杭州</td>\n",
       "      <td>5</td>\n",
       "    </tr>\n",
       "    <tr>\n",
       "      <th>14</th>\n",
       "      <td>2019 LEGO乐高拼装积木75890赛车法拉利F40跑车</td>\n",
       "      <td>yimansiyong13579</td>\n",
       "      <td>108.0</td>\n",
       "      <td>上海</td>\n",
       "      <td>6</td>\n",
       "    </tr>\n",
       "    <tr>\n",
       "      <th>15</th>\n",
       "      <td>2019乐高LEGO得宝大颗粒积木玩具 10929梦想之家</td>\n",
       "      <td>乐儿玩具城</td>\n",
       "      <td>383.0</td>\n",
       "      <td>北京</td>\n",
       "      <td>7</td>\n",
       "    </tr>\n",
       "    <tr>\n",
       "      <th>16</th>\n",
       "      <td>2019乐高积木创意三合一系列儿童拼装玩具31088深海生物鲨鱼乌贼</td>\n",
       "      <td>炫天母婴专营店</td>\n",
       "      <td>132.0</td>\n",
       "      <td>上海</td>\n",
       "      <td>73</td>\n",
       "    </tr>\n",
       "    <tr>\n",
       "      <th>17</th>\n",
       "      <td>2019乐高积木赛车lego 75892迈凯伦塞纳拼插男孩玩具礼物</td>\n",
       "      <td>yimansiyong13579</td>\n",
       "      <td>105.0</td>\n",
       "      <td>上海</td>\n",
       "      <td>6</td>\n",
       "    </tr>\n",
       "    <tr>\n",
       "      <th>18</th>\n",
       "      <td>2019乐高积木赛车lego 75893道奇挑战者恶魔和道奇战马拼插</td>\n",
       "      <td>yimansiyong13579</td>\n",
       "      <td>278.0</td>\n",
       "      <td>上海</td>\n",
       "      <td>7</td>\n",
       "    </tr>\n",
       "    <tr>\n",
       "      <th>19</th>\n",
       "      <td>2019年 乐高LEGO 60216 城市系列消防局 消防救援队 拼装积木玩具</td>\n",
       "      <td>开心购0523</td>\n",
       "      <td>139.0</td>\n",
       "      <td>北京</td>\n",
       "      <td>73</td>\n",
       "    </tr>\n",
       "  </tbody>\n",
       "</table>\n",
       "</div>"
      ],
      "text/plain": [
       "                                   goods_name         shop_name   price  \\\n",
       "0        (legofree) 乐高 LEGO 21050 建筑工作室, 順豐包郵          legofree  3540.0   \n",
       "1          10月新品乐高ow守望先锋系列75976破坏球小颗粒积木儿童拼装玩具               唛宝网   248.0   \n",
       "2               1月新品 乐高LEGO 幻影忍者 71710 忍者改装赛车         wang爱heng   245.0   \n",
       "3                1月新品 乐高LEGO大颗粒 10914 得宝豪华缤纷桶         wang爱heng   338.0   \n",
       "4         1月新品LEGO乐高幻影忍者系列71702黄金机甲小颗粒积木8岁+玩具              半步多l   259.0   \n",
       "5          1月新品LEGO乐高幻影忍者系列71706寇的极速战车小颗粒积木玩具              半步多l    65.0   \n",
       "6             1月新品LEGO乐高幻影忍者系列71710忍者改装赛车积木玩具              半步多l   259.0   \n",
       "7            1月新品LEGO乐高幻影忍者系列71713帝国神龙小颗粒积木玩具              半步多l   229.0   \n",
       "8   1月新品LEGO乐高幻影忍者系列71714凯/71715杰/71716劳埃德的街机              半步多l    70.0   \n",
       "9   1月新品LEGO乐高幻影忍者系列71714凯/71715杰/71716劳埃德的街机              老汉触网    74.0   \n",
       "10         1月新品LEGO乐高我的世界系列21159掠夺者前哨站小颗粒积木玩具              半步多l   249.0   \n",
       "11   2017新款乐高积木玩具LEGO 10847数字小火车 Duplo 得宝 大颗粒       zhoushengci   103.0   \n",
       "12       2018乐高积木Lego 创意百变系列 31071 无人机的探险家 现货              浅海蓝深    62.0   \n",
       "13          2018新品乐高得宝系列 10864我的游乐场创意积木盒 LEGO           杭州乐高折扣店   328.0   \n",
       "14             2019 LEGO乐高拼装积木75890赛车法拉利F40跑车  yimansiyong13579   108.0   \n",
       "15              2019乐高LEGO得宝大颗粒积木玩具 10929梦想之家             乐儿玩具城   383.0   \n",
       "16         2019乐高积木创意三合一系列儿童拼装玩具31088深海生物鲨鱼乌贼           炫天母婴专营店   132.0   \n",
       "17          2019乐高积木赛车lego 75892迈凯伦塞纳拼插男孩玩具礼物  yimansiyong13579   105.0   \n",
       "18         2019乐高积木赛车lego 75893道奇挑战者恶魔和道奇战马拼插  yimansiyong13579   278.0   \n",
       "19    2019年 乐高LEGO 60216 城市系列消防局 消防救援队 拼装积木玩具           开心购0523   139.0   \n",
       "\n",
       "   location  purchase_num  \n",
       "0     广东 深圳             8  \n",
       "1        上海           103  \n",
       "2        上海            24  \n",
       "3        上海            22  \n",
       "4        上海            17  \n",
       "5        上海            12  \n",
       "6        上海             8  \n",
       "7        上海             2  \n",
       "8        上海           227  \n",
       "9     江苏 苏州           289  \n",
       "10       上海             8  \n",
       "11    浙江 杭州            20  \n",
       "12    湖北 武汉            13  \n",
       "13    浙江 杭州             5  \n",
       "14       上海             6  \n",
       "15       北京             7  \n",
       "16       上海            73  \n",
       "17       上海             6  \n",
       "18       上海             7  \n",
       "19       北京            73  "
      ]
     },
     "execution_count": 34,
     "metadata": {},
     "output_type": "execute_result"
    }
   ],
   "source": [
    "pd.read_csv(\"乐高淘宝数据(清洗后）.csv\").head(20)"
   ]
  }
 ],
 "metadata": {
  "kernelspec": {
   "display_name": "Python 3 (ipykernel)",
   "language": "python",
   "name": "python3"
  },
  "language_info": {
   "codemirror_mode": {
    "name": "ipython",
    "version": 3
   },
   "file_extension": ".py",
   "mimetype": "text/x-python",
   "name": "python",
   "nbconvert_exporter": "python",
   "pygments_lexer": "ipython3",
   "version": "3.12.1"
  }
 },
 "nbformat": 4,
 "nbformat_minor": 5
}
